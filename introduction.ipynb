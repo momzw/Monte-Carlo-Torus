{
 "cells": [
  {
   "cell_type": "markdown",
   "source": [
    "# SERPENS\n",
    "## An Introduction\n",
    "\n",
    "In this notebook, I will demonstrate the basic usage of SERPENS.\n"
   ],
   "metadata": {
    "collapsed": false
   }
  },
  {
   "cell_type": "markdown",
   "source": [
    "***\n",
    "***\n",
    "\n",
    "### Setup\n",
    "For a basic simulation setup, we need to specify the following things:\n",
    "- Define the celestial objects in the _objects.py_ file.\n",
    "- Define the simulation parameters in the _init.py_ file."
   ],
   "metadata": {
    "collapsed": false
   }
  },
  {
   "cell_type": "markdown",
   "source": [
    "***\n",
    "\n",
    "#### Setting up parameters\n",
    "\n",
    "The _init.py_ file contains the _Parameters_ class, which sets the general simulation parameters.\n",
    "Here we are able to set the default parameters.\n",
    "\n",
    "Inside the \"new\" dunder method, we initiate the default _species_ .\n"
   ],
   "metadata": {
    "collapsed": false
   }
  },
  {
   "cell_type": "code",
   "execution_count": 1,
   "outputs": [],
   "source": [
    "from objects import celestial_objects\n",
    "from species import Species\n",
    "\n",
    "\n",
    "class Parameters:\n",
    "    _instance = None\n",
    "\n",
    "    # Integration specifics\n",
    "    int_spec = {\n",
    "        \"moon\": False,                      # Defines if we deal with a moon. VERY IMPORTANT.\n",
    "        \"sim_advance\": 1 / 40,              # Fraction of an orbit. At each fraction multiple, SERPENS adds and modifies particles. We call this an advance.\n",
    "        \"num_sim_advances\": 10,             # Total number of advances until a simulation stops.\n",
    "        \"stop_at_steady_state\": False,      # CURRENTLY NO EFFECT\n",
    "        \"gen_max\": None,                    # Sets the number of advances at which particles are added to the simulation. After this number of advances, the system evolves without adding new particles.\n",
    "        \"r_max\": 4,                         # Maximum distance from primary (planet or star) in satellite/planet semi-major axes. Particles further away get removed.\n",
    "        \"random_walk\": False,               # CURRENTLY NO EFFECT\n",
    "        \"particle_interpolation\": False     # CURRENTLY NO EFFECT\n",
    "    }\n",
    "\n",
    "    # Thermal evaporation parameters\n",
    "    therm_spec = {\n",
    "        \"source_temp_max\": 2703,  # 125, #2703, 130\n",
    "        \"source_temp_min\": 1609,  # 50, #1609, 90\n",
    "        \"spherical_symm_ejection\": True,\n",
    "    }\n",
    "\n",
    "    celest = celestial_objects(int_spec[\"moon\"])\n",
    "    species = {}\n",
    "    num_species = 0\n",
    "\n",
    "    def __new__(cls):\n",
    "\n",
    "        if cls._instance is None:\n",
    "\n",
    "            cls.species[f\"species1\"] = Species(\"H2\", description=\"H2--6.69kg/s--1200m/s\", n_th=0, n_sp=1000, mass_per_sec=6.69, model_smyth_v_b=1200, model_smyth_v_M=10000)\n",
    "            cls.species[f\"species2\"] = Species(\"H\", description=\"H--5.845kg/s--2500m/s\", n_th=0, n_sp=500, mass_per_sec=5.845, model_smyth_v_b=2500, model_smyth_v_M=10000)\n",
    "            cls.species[f\"species3\"] = Species(\"O2\", description=\"O2--14.35kg/s--4700m/s\", n_th=0, n_sp=500, mass_per_sec=14.35, model_smyth_v_b=4700, model_smyth_v_M=10000)\n",
    "            cls.num_species = len(cls.species)\n",
    "\n",
    "            cls._instance = object.__new__(cls)\n",
    "\n",
    "        return cls._instance\n"
   ],
   "metadata": {
    "collapsed": false
   }
  },
  {
   "cell_type": "markdown",
   "source": [
    "#### Setting up celestial objects\n",
    "\n",
    "The _objects.py_ file contains the _celestial_objects_ function, contain a dictionary of celestial objects.\n",
    "\n",
    "We distinguish between systems containing a moon-source and system with a planet-source. If you want to change the celestial objects in a system, in which you want to simulate a moon,\n",
    "make sure to modify the entries under the _if moon_ clause.\n",
    "SERPENS allows to set default parameters for both cases.\n",
    "\n",
    "Very important is to define which object is the source. In case of an exomoon system, you need to add _\"hash\": \"moon\"_ to the source's characteristic dictionary.\n",
    "In all cases you need to add the _\"hash\": \"planet\"_ dictionary entry to the outgassing planet / exomoon primary.\n",
    "If you analyze an exomoon system, but don't have an object with entry _\"hash\": \"moon\"_, SERPENS throws an error. It also throws an error if there's no object with _\"hash\": \"planet\"_.\n",
    "\n",
    "ATTENTION: Even if you add additional moons/planets, only add the \"moon\"/\"planet\" hashes to ONE of those objects. SERPENS identifies the source and primary with these exact hashes.\n",
    "Additional objects may carry any hash except \"moon\"/\"planet\".\n",
    "\n",
    "You can also define multiple celestial object system, which is import if you want to schedule multiple SERPENS simulations in different exoplanet systems.\n",
    "Make sure to define the dictionaries with _celest{X}_, where _{X}_ is a set number. This set number can later be put as an argument (see function arguments).\n",
    "\n",
    "Example:"
   ],
   "metadata": {
    "collapsed": false
   }
  },
  {
   "cell_type": "markdown",
   "source": [],
   "metadata": {
    "collapsed": false
   }
  },
  {
   "cell_type": "code",
   "execution_count": 2,
   "outputs": [],
   "source": [
    "def celestial_objects(moon, set=1):\n",
    "    m_sol = 1.988e30\n",
    "    m_jup = 1.898e27\n",
    "    r_sol = 696340e3\n",
    "    r_jup = 69911e3\n",
    "    au = 149597870700\n",
    "\n",
    "    if moon:\n",
    "        # Jupiter\n",
    "        # -------\n",
    "        celest1 = {\n",
    "            \"star\": {\"m\": 1.988e30,\n",
    "                     \"hash\": 'star',\n",
    "                     \"r\": 696340000\n",
    "                     },\n",
    "            \"planet\": {\"m\": 1.898e27,\n",
    "                       \"a\": 7.785e11,\n",
    "                       \"e\": 0.0489,\n",
    "                       \"inc\": 0.0227,\n",
    "                       \"r\": 69911000,\n",
    "                       \"primary\": 'star',\n",
    "                       \"hash\": 'planet'\n",
    "                       },\n",
    "            \"Europa\": {\"m\": 4.799e22,  # Europa\n",
    "                     \"a\": 6.709e8,\n",
    "                     \"e\": 0.009,\n",
    "                     \"inc\": 0.0082,\n",
    "                     \"r\": 1560800,\n",
    "                     \"primary\": 'planet',\n",
    "                     \"hash\": 'moon'\n",
    "                     },\n",
    "            \"Io\": {\"m\": 8.932e22,  # Io\n",
    "                    \"a\": 4.217e8,\n",
    "                    \"e\": 0.0041,\n",
    "                    \"r\": 1821600,\n",
    "                    \"primary\": 'planet'\n",
    "                     }\n",
    "        }\n",
    "    else:\n",
    "        # 55 Cnc-e\n",
    "        # --------\n",
    "        celest1 = {\n",
    "            \"star\": {\"m\": 1.799e30,\n",
    "                     \"hash\": 'star',\n",
    "                     \"r\": 6.56e8\n",
    "                     },\n",
    "            \"planet\": {\"m\": 4.77179e25,\n",
    "                       \"a\": 2.244e9,\n",
    "                       \"e\": 0.05,\n",
    "                       \"inc\": 0.00288,\n",
    "                       \"r\": 1.196e7,\n",
    "                       \"primary\": 'star',\n",
    "                       \"hash\": 'planet'}\n",
    "        }"
   ],
   "metadata": {
    "collapsed": false
   }
  },
  {
   "cell_type": "markdown",
   "source": [
    "In the above code we set two default systems.\n",
    "If we set _int_spec[\"moon\"] = True_ in the _Parameters_ class, then the Jovian system will be set as default. Note how only Europa has the hash \"moon\".\n",
    "If we set _int_spec[\"moon\"] = False_, then the 55 Cnc-e system will be set as default.\n"
   ],
   "metadata": {
    "collapsed": false
   }
  },
  {
   "cell_type": "markdown",
   "source": [
    "#### Running\n",
    "\n",
    "Once the objects and parameters have been set up, one can run the _serpens_simulation.py_ directly or simply import the _SerpensSimulation_ class from it.\n",
    "It then can be initialized and advanced."
   ],
   "metadata": {
    "collapsed": false
   }
  },
  {
   "cell_type": "code",
   "execution_count": 3,
   "outputs": [
    {
     "name": "stdout",
     "output_type": "stream",
     "text": [
      "=====================================\n",
      "SERPENS simulation has been created.\n",
      "=====================================\n",
      "=======================================\n",
      "Initializing new simulation instance...\n",
      "\t \t ... done!\n",
      "=======================================\n",
      "Starting advance 0 ... \n",
      "\t MP Processes joined.\n",
      "\t Transfering particle data...\n",
      "Advance done! \n",
      "Simulation time: 0.42\n",
      "Simulation runtime: 0.41\n",
      "Number of particles removed: 59\n",
      "Number of particles: 819\n",
      "Saving hash dict...\n",
      "\t ... done!\n",
      "#######################################################\n",
      "Starting advance 1 ... \n",
      "\t MP Processes joined.\n",
      "\t Transfering particle data...\n",
      "Advance done! \n",
      "Simulation time: 0.85\n",
      "Simulation runtime: 0.87\n",
      "Number of particles removed: 71\n",
      "Number of particles: 1624\n",
      "Saving hash dict...\n",
      "\t ... done!\n",
      "#######################################################\n",
      "Starting advance 2 ... \n",
      "\t MP Processes joined.\n",
      "\t Transfering particle data...\n",
      "Advance done! \n",
      "Simulation time: 1.27\n",
      "Simulation runtime: 1.41\n",
      "Number of particles removed: 88\n",
      "Number of particles: 2406\n",
      "Saving hash dict...\n",
      "\t ... done!\n",
      "#######################################################\n",
      "Starting advance 3 ... \n",
      "\t MP Processes joined.\n",
      "\t Transfering particle data...\n",
      "Advance done! \n",
      "Simulation time: 1.69\n",
      "Simulation runtime: 2.11\n",
      "Number of particles removed: 138\n",
      "Number of particles: 3136\n",
      "Saving hash dict...\n",
      "\t ... done!\n",
      "#######################################################\n",
      "Starting advance 4 ... \n",
      "\t MP Processes joined.\n",
      "\t Transfering particle data...\n",
      "Advance done! \n",
      "Simulation time: 2.12\n",
      "Simulation runtime: 2.88\n",
      "Number of particles removed: 157\n",
      "Number of particles: 3844\n",
      "Saving hash dict...\n",
      "\t ... done!\n",
      "#######################################################\n",
      "Starting advance 5 ... \n",
      "\t MP Processes joined.\n",
      "\t Transfering particle data...\n",
      "Advance done! \n",
      "Simulation time: 2.58\n",
      "Simulation runtime: 3.77\n",
      "Number of particles removed: 173\n",
      "Number of particles: 4519\n",
      "Saving hash dict...\n",
      "\t ... done!\n",
      "#######################################################\n",
      "Starting advance 6 ... \n",
      "\t MP Processes joined.\n",
      "\t Transfering particle data...\n",
      "Advance done! \n",
      "Simulation time: 3.01\n",
      "Simulation runtime: 4.76\n",
      "Number of particles removed: 163\n",
      "Number of particles: 5211\n",
      "Saving hash dict...\n",
      "\t ... done!\n",
      "#######################################################\n",
      "Starting advance 7 ... \n",
      "\t MP Processes joined.\n",
      "\t Transfering particle data...\n",
      "Advance done! \n",
      "Simulation time: 3.43\n",
      "Simulation runtime: 5.81\n",
      "Number of particles removed: 197\n",
      "Number of particles: 5865\n",
      "Saving hash dict...\n",
      "\t ... done!\n",
      "#######################################################\n",
      "Starting advance 8 ... \n",
      "\t MP Processes joined.\n",
      "\t Transfering particle data...\n",
      "Advance done! \n",
      "Simulation time: 3.85\n",
      "Simulation runtime: 7.16\n",
      "Number of particles removed: 175\n",
      "Number of particles: 6534\n",
      "Saving hash dict...\n",
      "\t ... done!\n",
      "#######################################################\n",
      "Starting advance 9 ... \n",
      "\t MP Processes joined.\n",
      "\t Transfering particle data...\n",
      "Advance done! \n",
      "Simulation time: 4.28\n",
      "Simulation runtime: 8.52\n",
      "Number of particles removed: 224\n",
      "Number of particles: 7158\n",
      "Saving hash dict...\n",
      "\t ... done!\n",
      "#######################################################\n"
     ]
    }
   ],
   "source": [
    "from serpens_simulation import SerpensSimulation\n",
    "from init import Parameters\n",
    "\n",
    "num_advances = Parameters.int_spec[\"num_sim_advances\"]\n",
    "ssim = SerpensSimulation()\n",
    "ssim.advance(num_advances)        # Activate this line to run the simulation!"
   ],
   "metadata": {
    "collapsed": false
   }
  },
  {
   "cell_type": "markdown",
   "source": [
    "***\n",
    "\n",
    "### Species\n",
    "\n",
    "This section covers a quick explanation to the species class.\n",
    "\n",
    "Species(\n",
    "> name: str,\n",
    ">> The name of the species. See the _species.py_ file for all implemented species names, e.g. \"Na\", \"H2\", \"SO2\".\n",
    "\n",
    "> description: str,\n",
    ">> If given, this description will be forwarded to any plots and allows a more sophisticated labeling, eg. \"H2--6.69kg/s--1200m/s\".\n",
    "\n",
    "> n_th: int,\n",
    ">> Number of thermal evaporated superparticles added to the simulation per advance.\n",
    "\n",
    "> n_sp: int,\n",
    ">> Number of sputtered superparticles added to the simulation per advance.\n",
    "\n",
    "> mass_per_sec: float,\n",
    ">> Mass flow rate in kg/s. Needed for density estimations.\n",
    "\n",
    "> duplicate: int,\n",
    ">> If multiple species of the same kind are analyzed, but with different parameters, this parameter must be increased by one for each duplicate species starting at 1.\n",
    "\n",
    "> beta: float,\n",
    ">> Radiation force to gravitational force ratio parameter.\n",
    "\n",
    "> lifetime: float,\n",
    ">> Lifetime of the species.\n",
    "\n",
    "> n_e: float,\n",
    ">> Electron density scaling factor. Will be passed to the chemical network, where all reaction rates given per electron density, will be scaled accordingly.\n",
    "\n",
    "> sput_spec: dict\n",
    ">> Contains all the parameters for the sputtering distribution. Most important are _model_smyth_v_b_ and _model_smyth_v_M_ which define most likely and maximum speeds, respectively.\n",
    ")\n",
    "\n"
   ],
   "metadata": {
    "collapsed": false
   }
  },
  {
   "cell_type": "markdown",
   "source": [
    "#### Adding new species\n",
    "\n",
    "If you want to add new species, there are a few steps you need to undertake:\n",
    "1. Add species name to _implemented_species_ in the _Species_ class from the _species.py_ file and assign it a number acting as an id.\n",
    "2. In _species.py_, there's a code block starting with _if name in self.implementedSpecies:_. Inside this block you need to make a new entry similar to what you can see already exists. The number passed to _super()_ is the mass number of the species.\n",
    "3. Define a network or lifetime in the _network.py_ file that is associated to the new species id."
   ],
   "metadata": {
    "collapsed": false
   }
  },
  {
   "cell_type": "markdown",
   "source": [
    "***\n",
    "\n",
    "### The scheduler\n",
    "\n",
    "In case you want to run multiple simulations, you can define new parameters for each simulation in the _scheduler.py_ file.\n",
    "You need to set a dictionary _simulations_ with the new parameters, which overwrite the default ones saved in the _Parameters_ class.\n",
    "\n",
    "Possible changes:\n",
    "\n",
    "species : list\n",
    "> New species to analyze.\n",
    ">>  Signature:\n",
    ">>  _Species(name: str, n_th: int, n_sp: int, mass_per_sec: float, duplicate: int, beta: float, lifetime: float, n_e: float, sput_spec: dict)_\n",
    ">>  If attribute not passed to species, it is either set to 'None' or to default value.\n",
    "\n",
    "objects: dict\n",
    "> Manipulate celestial objects.\n",
    ">   If passed 'objects: dict', a new source can be defined and object properties can be changed (see rebound.Particle properties)\n",
    ">>  Example: {'Io': {'source': True, 'm': 1e23, 'a': 3e9}, 'Ganymede': {...}}\n",
    "\n",
    "moon: bool\n",
    ">    Change between moon and planet systems (e.g. Jovian to 55 Cnc)\n",
    ">    NOTE: It is currently only possible to change the chem. network via lifetime between systems.\n",
    "\n",
    "int_spec: dict\n",
    ">    update integration parameters. You can also pass only the specific parameter (still in form of a dict).\n",
    "\n",
    "therm_spec: dict\n",
    ">    update thermal evaporation parameters. You can also pass only the specific parameter (still in form of a dict).\n",
    "\n",
    "celest_set: int\n",
    ">    Change celestial object set according to objects.py.\n",
    ">    NOTE: Only works if \"moon: bool\" is also defined. Needed to distinguish between sets\n",
    "\n",
    "\n",
    "The following example changes to the system with celestial objects _celest3_ (set 3), which represents HD-189733. In order to switch to this exomoon system, we need to state that _moon = True_\n",
    "We also analyze sodium (instead whatever the default is) with the corresponding species parameters. If we wanted to, we could add more list entries with additional species.\n",
    "If you run the _scheduler.py_ with this set up, the simulation starts automatically. If _simulations_ had another dictionary entry, it would follow with that simulation and save it in another folder."
   ],
   "metadata": {
    "collapsed": false
   }
  },
  {
   "cell_type": "code",
   "execution_count": 4,
   "outputs": [],
   "source": [
    "from init import NewParams\n",
    "from species import Species\n",
    "\n",
    "simulations = {\n",
    "    \"HD-189733-ExoEarth\":\n",
    "        NewParams(species=[Species('Na', description='Na--11576kg/s--2.5-30km/s', n_th=0, n_sp=1000, mass_per_sec=11576,\n",
    "                                   lifetime=16.9 * 60, model_smyth_v_b=2500, model_smyth_v_M=30000)],\n",
    "                  moon=True,\n",
    "                  celest_set=3)\n",
    "}"
   ],
   "metadata": {
    "collapsed": false
   }
  },
  {
   "cell_type": "markdown",
   "source": [
    "***\n",
    "***\n",
    "\n",
    "### Analyzing the results\n",
    "\n",
    "In order to visualize the results, one calls the _SerpensAnalyzer_.\n",
    "Note that you might need to check your matplotlib interactive framework.\n",
    "\n",
    "To analyze, you need to have run the simulation, s.t. parameters, hash dictionary and simulation archives have been saved to the working directory.\n",
    "\n",
    "ATTENTION: I am currently translating _serpens.py_ into _SerpensAnalyzer_.\n",
    "Currently, there's only the top-down/birdseye plot available.\n"
   ],
   "metadata": {
    "collapsed": false
   }
  },
  {
   "cell_type": "code",
   "execution_count": 1,
   "outputs": [
    {
     "ename": "ImportError",
     "evalue": "Cannot load backend 'TkAgg' which requires the 'tk' interactive framework, as 'headless' is currently running",
     "output_type": "error",
     "traceback": [
      "\u001B[0;31m---------------------------------------------------------------------------\u001B[0m",
      "\u001B[0;31mImportError\u001B[0m                               Traceback (most recent call last)",
      "\u001B[0;32m<ipython-input-1-b08ce8e71884>\u001B[0m in \u001B[0;36m<module>\u001B[0;34m\u001B[0m\n\u001B[0;32m----> 1\u001B[0;31m \u001B[0;32mfrom\u001B[0m \u001B[0mserpens_analyzer\u001B[0m \u001B[0;32mimport\u001B[0m \u001B[0mSerpensAnalyzer\u001B[0m\u001B[0;34m\u001B[0m\u001B[0;34m\u001B[0m\u001B[0m\n\u001B[0m\u001B[1;32m      2\u001B[0m \u001B[0;34m\u001B[0m\u001B[0m\n\u001B[1;32m      3\u001B[0m \u001B[0msa\u001B[0m \u001B[0;34m=\u001B[0m \u001B[0mSerpensAnalyzer\u001B[0m\u001B[0;34m(\u001B[0m\u001B[0;34m)\u001B[0m\u001B[0;34m\u001B[0m\u001B[0;34m\u001B[0m\u001B[0m\n\u001B[1;32m      4\u001B[0m \u001B[0msa\u001B[0m\u001B[0;34m.\u001B[0m\u001B[0mbirdseye\u001B[0m\u001B[0;34m(\u001B[0m\u001B[0mtimestep\u001B[0m\u001B[0;34m=\u001B[0m\u001B[0;36m3\u001B[0m\u001B[0;34m,\u001B[0m \u001B[0md\u001B[0m\u001B[0;34m=\u001B[0m\u001B[0;36m2\u001B[0m\u001B[0;34m,\u001B[0m \u001B[0mgrid\u001B[0m\u001B[0;34m=\u001B[0m\u001B[0;32mTrue\u001B[0m\u001B[0;34m,\u001B[0m \u001B[0mcolormesh\u001B[0m\u001B[0;34m=\u001B[0m\u001B[0;32mTrue\u001B[0m\u001B[0;34m,\u001B[0m \u001B[0mtriplot\u001B[0m\u001B[0;34m=\u001B[0m\u001B[0;32mFalse\u001B[0m\u001B[0;34m)\u001B[0m\u001B[0;34m\u001B[0m\u001B[0;34m\u001B[0m\u001B[0m\n",
      "\u001B[0;32m/mnt/c/Users/MoritzMzW/OneDrive/Dokumente/Stuff/Studium/Masterthesis/SERPENS/serpens_analyzer.py\u001B[0m in \u001B[0;36m<module>\u001B[0;34m\u001B[0m\n\u001B[1;32m      9\u001B[0m \u001B[0;32mimport\u001B[0m \u001B[0mDTFE3D\u001B[0m\u001B[0;34m\u001B[0m\u001B[0;34m\u001B[0m\u001B[0m\n\u001B[1;32m     10\u001B[0m \u001B[0;32mfrom\u001B[0m \u001B[0minit\u001B[0m \u001B[0;32mimport\u001B[0m \u001B[0mParameters\u001B[0m\u001B[0;34m\u001B[0m\u001B[0;34m\u001B[0m\u001B[0m\n\u001B[0;32m---> 11\u001B[0;31m \u001B[0;32mfrom\u001B[0m \u001B[0mvisualize\u001B[0m \u001B[0;32mimport\u001B[0m \u001B[0mVisualize\u001B[0m\u001B[0;34m\u001B[0m\u001B[0;34m\u001B[0m\u001B[0m\n\u001B[0m\u001B[1;32m     12\u001B[0m \u001B[0;34m\u001B[0m\u001B[0m\n\u001B[1;32m     13\u001B[0m \u001B[0;34m\u001B[0m\u001B[0m\n",
      "\u001B[0;32m/mnt/c/Users/MoritzMzW/OneDrive/Dokumente/Stuff/Studium/Masterthesis/SERPENS/visualize.py\u001B[0m in \u001B[0;36m<module>\u001B[0;34m\u001B[0m\n\u001B[1;32m      9\u001B[0m \u001B[0;32mfrom\u001B[0m \u001B[0mscipy\u001B[0m\u001B[0;34m.\u001B[0m\u001B[0mndimage\u001B[0m\u001B[0;34m.\u001B[0m\u001B[0mfilters\u001B[0m \u001B[0;32mimport\u001B[0m \u001B[0mgaussian_filter\u001B[0m\u001B[0;34m\u001B[0m\u001B[0;34m\u001B[0m\u001B[0m\n\u001B[1;32m     10\u001B[0m \u001B[0;32mfrom\u001B[0m \u001B[0mmatplotlib\u001B[0m\u001B[0;34m.\u001B[0m\u001B[0mwidgets\u001B[0m \u001B[0;32mimport\u001B[0m \u001B[0mSlider\u001B[0m\u001B[0;34m,\u001B[0m \u001B[0mRangeSlider\u001B[0m\u001B[0;34m\u001B[0m\u001B[0;34m\u001B[0m\u001B[0m\n\u001B[0;32m---> 11\u001B[0;31m \u001B[0mmatplotlib\u001B[0m\u001B[0;34m.\u001B[0m\u001B[0muse\u001B[0m\u001B[0;34m(\u001B[0m\u001B[0;34m'TkAgg'\u001B[0m\u001B[0;34m)\u001B[0m\u001B[0;34m\u001B[0m\u001B[0;34m\u001B[0m\u001B[0m\n\u001B[0m\u001B[1;32m     12\u001B[0m \u001B[0;34m\u001B[0m\u001B[0m\n\u001B[1;32m     13\u001B[0m \u001B[0;32mclass\u001B[0m \u001B[0mVisualize\u001B[0m\u001B[0;34m:\u001B[0m\u001B[0;34m\u001B[0m\u001B[0;34m\u001B[0m\u001B[0m\n",
      "\u001B[0;32m~/.local/lib/python3.8/site-packages/matplotlib/__init__.py\u001B[0m in \u001B[0;36muse\u001B[0;34m(backend, force)\u001B[0m\n\u001B[1;32m   1142\u001B[0m                 \u001B[0;31m# user does not have the libraries to support their\u001B[0m\u001B[0;34m\u001B[0m\u001B[0;34m\u001B[0m\u001B[0;34m\u001B[0m\u001B[0m\n\u001B[1;32m   1143\u001B[0m                 \u001B[0;31m# chosen backend installed.\u001B[0m\u001B[0;34m\u001B[0m\u001B[0;34m\u001B[0m\u001B[0;34m\u001B[0m\u001B[0m\n\u001B[0;32m-> 1144\u001B[0;31m                 \u001B[0mplt\u001B[0m\u001B[0;34m.\u001B[0m\u001B[0mswitch_backend\u001B[0m\u001B[0;34m(\u001B[0m\u001B[0mname\u001B[0m\u001B[0;34m)\u001B[0m\u001B[0;34m\u001B[0m\u001B[0;34m\u001B[0m\u001B[0m\n\u001B[0m\u001B[1;32m   1145\u001B[0m             \u001B[0;32mexcept\u001B[0m \u001B[0mImportError\u001B[0m\u001B[0;34m:\u001B[0m\u001B[0;34m\u001B[0m\u001B[0;34m\u001B[0m\u001B[0m\n\u001B[1;32m   1146\u001B[0m                 \u001B[0;32mif\u001B[0m \u001B[0mforce\u001B[0m\u001B[0;34m:\u001B[0m\u001B[0;34m\u001B[0m\u001B[0;34m\u001B[0m\u001B[0m\n",
      "\u001B[0;32m~/.local/lib/python3.8/site-packages/matplotlib/pyplot.py\u001B[0m in \u001B[0;36mswitch_backend\u001B[0;34m(newbackend)\u001B[0m\n\u001B[1;32m    294\u001B[0m         if (current_framework and required_framework\n\u001B[1;32m    295\u001B[0m                 and current_framework != required_framework):\n\u001B[0;32m--> 296\u001B[0;31m             raise ImportError(\n\u001B[0m\u001B[1;32m    297\u001B[0m                 \u001B[0;34m\"Cannot load backend {!r} which requires the {!r} interactive \"\u001B[0m\u001B[0;34m\u001B[0m\u001B[0;34m\u001B[0m\u001B[0m\n\u001B[1;32m    298\u001B[0m                 \"framework, as {!r} is currently running\".format(\n",
      "\u001B[0;31mImportError\u001B[0m: Cannot load backend 'TkAgg' which requires the 'tk' interactive framework, as 'headless' is currently running"
     ]
    }
   ],
   "source": [
    "from serpens_analyzer import SerpensAnalyzer\n",
    "\n",
    "sa = SerpensAnalyzer()\n",
    "sa.birdseye(timestep=3, d=2, grid=True, colormesh=True, triplot=False)      # timestep: simulation advance number; triplot: plot tessellation."
   ],
   "metadata": {
    "collapsed": false
   }
  },
  {
   "cell_type": "markdown",
   "source": [],
   "metadata": {
    "collapsed": false
   }
  },
  {
   "cell_type": "code",
   "execution_count": null,
   "outputs": [],
   "source": [],
   "metadata": {
    "collapsed": false
   }
  }
 ],
 "metadata": {
  "kernelspec": {
   "display_name": "Python 3",
   "language": "python",
   "name": "python3"
  },
  "language_info": {
   "codemirror_mode": {
    "name": "ipython",
    "version": 2
   },
   "file_extension": ".py",
   "mimetype": "text/x-python",
   "name": "python",
   "nbconvert_exporter": "python",
   "pygments_lexer": "ipython2",
   "version": "2.7.6"
  }
 },
 "nbformat": 4,
 "nbformat_minor": 0
}
