{
 "cells": [
  {
   "cell_type": "markdown",
   "metadata": {},
   "source": [
    "# SERPENS\n",
    "## An Introduction\n",
    "\n",
    "In this notebook, I will demonstrate the basic usage of SERPENS.\n"
   ]
  },
  {
   "cell_type": "markdown",
   "metadata": {},
   "source": [
    "***\n",
    "***\n",
    "\n",
    "### Using the Interface Script\n",
    "This is the easiest way of using SERPENS and does not require any coding from you. However, it is limited in its scope. More advanced features of SERPENS are only accessible when you create your own script.\n",
    "\n",
    "The first thing you are going to be faced with, is the setup of the planetary system. Already defined systems can be found in the _resources/objects.txt_ file and will be listed as you run the script. You may choose to add a new system by either editing that file directly or interacting with the interface script by answering the prompted question with \"_n_\" or \"_no_\". Editing the file directly allows you to define multiple moons as in the case of the Jupiter system."
   ]
  },
  {
   "cell_type": "markdown",
   "metadata": {},
   "source": [
    "Currently implemented exoplanet systems:\n",
    "1. Jupiter\n",
    "2. WASP-49\n",
    "3. HD-189733\n",
    "4. HD-209458\n",
    "5. HAT-P-1\n",
    "6. WASP-39\n",
    "7. WASP-17\n",
    "8. WASP-69\n",
    "9. WASP-96\n",
    "10. XO-2 N\n",
    "11. WASP-52\n",
    "etc.\n",
    "\n",
    "Do you want to analyze an already set up exoplanet system? [Y/n]"
   ]
  },
  {
   "cell_type": "markdown",
   "metadata": {},
   "source": [
    "If you answer above question with _n_, you will be guided through the setup of a new system. However, you will only be able to define a system with a star, planet and a single moon. \n",
    "\n",
    "In the following we will continue with the Jupiter system by entering the number 1 when prompted. \n",
    "A list of the currently defined parameters will be shown. These are also saved in file, namely _resources/input_parameters.txt_. I highly recommend changing any desired parameters directly inside the file, although you are able to change some basic parameters on the fly with the interface script."
   ]
  },
  {
   "cell_type": "raw",
   "metadata": {},
   "source": [
    "Please choose from the above list by entering the associated integer number: \n",
    "1\n",
    "Continuing with system Jupiter.\n",
    "-------------------\n",
    "Parameter Settings:\n",
    "Orbit fraction of an advance = 0.01\n",
    "Number of simulation advances = 100\n",
    "Species Na: \n",
    "\tMdot [kg/s] = 63095, \n",
    "\tlifetime [s] / network = 240,\n",
    "\tNumber of thermal superparticles = 0,\n",
    "\tNumber of sputtered superparticles = 800\n",
    "Do you wish to change these parameters? [y/N] "
   ]
  },
  {
   "cell_type": "markdown",
   "metadata": {},
   "source": [
    "After the parameter setup, the only thing left to do is to enter a savename and a save frequency. Latter refers to how often the simulation instances will be saved for later analysis. Entering, for example, _5_ will result in the simulation being saved every 5th advance. "
   ]
  },
  {
   "cell_type": "raw",
   "metadata": {},
   "source": [
    "Please enter a savename\n",
    "test\n",
    "Please enter save frequency\n",
    "5"
   ]
  },
  {
   "cell_type": "markdown",
   "metadata": {},
   "source": [
    "You are all set! The simulation will now start."
   ]
  },
  {
   "cell_type": "markdown",
   "metadata": {},
   "source": [
    "***\n",
    "***\n",
    "\n",
    "### Quick Start\n",
    "Now, let's dig a little bit deeper and assume you want to work with SERPENS.\n",
    "\n",
    "We want to start a simulation. We do so by initiating a _SerpensSimulation_ instance and advancing it an integer number of times. Inside the _Parameters_ class we have a variable called _sim_advance_. This variable describes the timestep of one advance in fractions of a full orbit (this is not the integration step time, but the step time after which new particles are added!).\n",
    "\n",
    "The following advances 5 times, i.e. 5 _sim_advance_ orbit fractions."
   ]
  },
  {
   "cell_type": "code",
   "execution_count": null,
   "metadata": {
    "pycharm": {
     "is_executing": true
    }
   },
   "outputs": [],
   "source": [
    "from serpens_simulation import SerpensSimulation\n",
    "\n",
    "sersim = SerpensSimulation()\n",
    "sersim.advance(5)"
   ]
  },
  {
   "cell_type": "markdown",
   "metadata": {},
   "source": [
    "Once the simulation has run, we can run the analyzer to extract information from the particle distribution. Just like with the simulation we need to initialize a _SerpensAnalyzer_ instance.\n",
    "\n",
    "We first plot a top-down view of the system and afterwards we take a look at the line-of-sight perspective."
   ]
  },
  {
   "cell_type": "code",
   "execution_count": null,
   "metadata": {},
   "outputs": [],
   "source": [
    "%matplotlib inline\n",
    "%matplotlib notebook\n",
    "from serpens_analyzer import SerpensAnalyzer\n",
    "\n",
    "serana = SerpensAnalyzer()\n",
    "serana.top_down(timestep=5, d=2, colormesh=False, scatter=True, triplot=False, lim=15)\n"
   ]
  },
  {
   "cell_type": "markdown",
   "source": [
    "If you have set up the interactive framework for matplotlib correctly, you should be able to see plots (second after you close the first)."
   ],
   "metadata": {
    "collapsed": false
   }
  },
  {
   "cell_type": "markdown",
   "metadata": {},
   "source": [
    "Now, let's look at another feature of SERPENS: The scheduler.\n",
    "\n",
    "With the scheduler you are able to set up multiple simulations at once. These will get saved in separate folders. For each simulation the saved files are the parameters, a hash library and an archive bin-file. In order to analyze these, you need to move these files into the main folder of SERPENS afterwards. Note, however, that you need to analyze the simulations separately.\n",
    "\n",
    "In order for the simulation to read the scheduler, we need to tell it if we deal with a moon or a planet (in case we want to simulate close orbiting evaporative planets).\n",
    "The stars, planets and moons are set up in the _objects.py_ file. One needs to have the different systems and their celestial objects pre-defined. These celestial sets are indexed with the _celest_set_ attribute.\n",
    "In addition to the system, we can define a list of species to check (here it's only sodium) with their respective parameters (see further down below).\n",
    "If we want to change some parameters of the celestial objects, e.g. mass and radius, we can do so with the _objects_ argument. This argument must be given as a dictionary with the celestial bodies and their new parameters as a sub-dictionary. Valid arguments inside the sub-dictionary are REBOUND particle parameters and the argument _source_. Latter is a boolean that allows the user to set a different object as the simulation particle source. The original intention of this argument was to switch between sources if multiple natural satellites have been defined.\n",
    "\n",
    "\n",
    "As always: We initiate the corresponding instance. As an example we want to simulate a super-Earth and an exo-Io in the systems WASP-49 and HD-189733, respectively.\n",
    "\n",
    "Note: Units are in SI.\n"
   ]
  },
  {
   "cell_type": "code",
   "execution_count": null,
   "metadata": {
    "is_executing": true,
    "ExecuteTime": {
     "start_time": "2023-08-09T06:44:10.358956400Z"
    }
   },
   "outputs": [
    {
     "name": "stdout",
     "output_type": "stream",
     "text": [
      "Starting scheduled simulations.\n",
      "Species loaded.\n",
      "=====================================\n",
      "SERPENS simulation has been created.\n",
      "=====================================\n",
      "=======================================\n",
      "Initializing new simulation instance...\n",
      "\t \t ... done!\n",
      "=======================================\n",
      "Starting advance 0 ... \n"
     ]
    },
    {
     "name": "stderr",
     "output_type": "stream",
     "text": [
      "/home/moritz/.local/lib/python3.10/site-packages/rebound/simulation.py:826: RuntimeWarning: You have to reset function pointers after creating a reb_simulation struct with a binary file.\n",
      "  warnings.warn(message, RuntimeWarning)\n",
      "/home/moritz/.local/lib/python3.10/site-packages/rebound/simulation.py:826: RuntimeWarning: You have to reset function pointers after creating a reb_simulation struct with a binary file.\n",
      "  warnings.warn(message, RuntimeWarning)\n"
     ]
    },
    {
     "name": "stdout",
     "output_type": "stream",
     "text": [
      "\t MP Processes joined.\n",
      "\t Transfering particle data...\n",
      "Advance done! \n",
      "Simulation time [h]: 0.13\n",
      "Simulation runtime [s]: 1.35\n",
      "Number of particles removed: 0\n",
      "Number of particles: 906\n",
      "Saving hash dict...\n",
      "\t ... done!\n",
      "#######################################################\n",
      "Starting advance 1 ... \n",
      "\t MP Processes joined.\n",
      "\t Transfering particle data...\n",
      "Advance done! \n",
      "Simulation time [h]: 0.25\n",
      "Simulation runtime [s]: 2.77\n",
      "Number of particles removed: 0\n",
      "Number of particles: 1814\n",
      "Saving hash dict...\n",
      "\t ... done!\n",
      "#######################################################\n",
      "Starting advance 2 ... \n",
      "\t MP Processes joined.\n",
      "\t Transfering particle data...\n",
      "Advance done! \n",
      "Simulation time [h]: 0.39\n",
      "Simulation runtime [s]: 4.3\n",
      "Number of particles removed: 0\n",
      "Number of particles: 2705\n",
      "Saving hash dict...\n",
      "\t ... done!\n",
      "#######################################################\n",
      "Starting advance 3 ... \n",
      "\t MP Processes joined.\n",
      "\t Transfering particle data...\n",
      "Advance done! \n",
      "Simulation time [h]: 0.52\n",
      "Simulation runtime [s]: 5.95\n",
      "Number of particles removed: 0\n",
      "Number of particles: 3600\n",
      "Saving hash dict...\n",
      "\t ... done!\n",
      "#######################################################\n",
      "Starting advance 4 ... \n",
      "\t MP Processes joined.\n",
      "\t Transfering particle data...\n",
      "Advance done! \n",
      "Simulation time [h]: 0.64\n",
      "Simulation runtime [s]: 7.73\n",
      "Number of particles removed: 0\n",
      "Number of particles: 4490\n",
      "Saving hash dict...\n",
      "\t ... done!\n",
      "#######################################################\n",
      "Starting advance 5 ... \n",
      "\t MP Processes joined.\n",
      "\t Transfering particle data...\n",
      "Advance done! \n",
      "Simulation time [h]: 0.77\n",
      "Simulation runtime [s]: 9.65\n",
      "Number of particles removed: 0\n",
      "Number of particles: 5376\n",
      "Saving hash dict...\n",
      "\t ... done!\n",
      "#######################################################\n",
      "Starting advance 6 ... \n",
      "\t MP Processes joined.\n",
      "\t Transfering particle data...\n",
      "Advance done! \n",
      "Simulation time [h]: 0.88\n",
      "Simulation runtime [s]: 11.71\n",
      "Number of particles removed: 0\n",
      "Number of particles: 6265\n",
      "Saving hash dict...\n",
      "\t ... done!\n",
      "#######################################################\n",
      "Starting advance 7 ... \n",
      "\t MP Processes joined.\n",
      "\t Transfering particle data...\n",
      "Advance done! \n",
      "Simulation time [h]: 1.01\n",
      "Simulation runtime [s]: 13.94\n",
      "Number of particles removed: 0\n",
      "Number of particles: 7147\n",
      "Saving hash dict...\n",
      "\t ... done!\n",
      "#######################################################\n",
      "Starting advance 8 ... \n",
      "\t MP Processes joined.\n",
      "\t Transfering particle data...\n",
      "Advance done! \n",
      "Simulation time [h]: 1.13\n",
      "Simulation runtime [s]: 16.34\n",
      "Number of particles removed: 0\n",
      "Number of particles: 8019\n",
      "Saving hash dict...\n",
      "\t ... done!\n",
      "#######################################################\n",
      "Starting advance 9 ... \n",
      "\t MP Processes joined.\n",
      "\t Transfering particle data...\n",
      "Advance done! \n",
      "Simulation time [h]: 1.26\n",
      "Simulation runtime [s]: 18.92\n",
      "Number of particles removed: 0\n",
      "Number of particles: 8893\n",
      "Saving hash dict...\n",
      "\t ... done!\n",
      "#######################################################\n",
      "Starting advance 10 ... \n",
      "\t MP Processes joined.\n",
      "\t Transfering particle data...\n",
      "Advance done! \n",
      "Simulation time [h]: 1.39\n",
      "Simulation runtime [s]: 21.57\n",
      "Number of particles removed: 1\n",
      "Number of particles: 9759\n",
      "Saving hash dict...\n",
      "\t ... done!\n",
      "#######################################################\n",
      "Starting advance 11 ... \n",
      "\t MP Processes joined.\n",
      "\t Transfering particle data...\n",
      "Advance done! \n",
      "Simulation time [h]: 1.51\n",
      "Simulation runtime [s]: 24.45\n",
      "Number of particles removed: 0\n",
      "Number of particles: 10614\n",
      "Saving hash dict...\n"
     ]
    }
   ],
   "source": [
    "from scheduler import SerpensScheduler\n",
    "from species import Species\n",
    "\n",
    "ssch = SerpensScheduler()\n",
    "\n",
    "ssch.schedule(\"WASP-49-SuperEarth\",\n",
    "              species=[Species('Na', description='Na--125285kg/s--2.5-30km/s', n_th=0, n_sp=1000,\n",
    "                       mass_per_sec=125285, lifetime=4*60, model_smyth_v_b=2500, model_smyth_v_M=30000)],\n",
    "              moon=True,\n",
    "              celest_name=\"WASP-49\")\n",
    "ssch.schedule(\"HD-189733-ExoIo\",\n",
    "              species=[Species('Na', description='Na--11576kg/s--2.5-30km/s', n_th=0, n_sp=1000, mass_per_sec=11576, lifetime=16.9 * 60, model_smyth_v_b=2500, model_smyth_v_M=30000)],\n",
    "              moon=True,\n",
    "              objects={'moon': {'m': 8.8e22, 'r': 1820e3}},\n",
    "              celest_name=\"HD-189733\")\n",
    "ssch.run()"
   ]
  },
  {
   "cell_type": "markdown",
   "metadata": {},
   "source": [
    "After the above code is finished you should find a new folder inside SERPENS with the resulting simulation instances.\n",
    "\n",
    "Note: Running via the scheduler will always advance as often as has been defined by _num_sim_advances_ inside the _parameters_ class."
   ]
  },
  {
   "cell_type": "markdown",
   "metadata": {},
   "source": []
  },
  {
   "cell_type": "markdown",
   "metadata": {},
   "source": [
    "***\n",
    "\n",
    "### Species\n",
    "\n",
    "This section covers a quick explanation to the species class.\n",
    "\n",
    "Species(\n",
    "> name: str,\n",
    ">> The name of the species. See the _species.py_ file for all implemented species names, e.g. \"Na\", \"H2\", \"SO2\".\n",
    "\n",
    "> description: str,\n",
    ">> If given, this description will be forwarded to any plots and allows a more sophisticated labeling, eg. \"H2--6.69kg/s--1200m/s\".\n",
    "\n",
    "> n_th: int,\n",
    ">> Number of thermal evaporated superparticles added to the simulation per advance.\n",
    "\n",
    "> n_sp: int,\n",
    ">> Number of sputtered superparticles added to the simulation per advance.\n",
    "\n",
    "> mass_per_sec: float,\n",
    ">> Mass flow rate in kg/s. Needed for density estimations.\n",
    "\n",
    "> duplicate: int,\n",
    ">> If multiple species of the same kind are analyzed, but with different parameters, this parameter must be increased by one for each duplicate species starting at 1.\n",
    "\n",
    "> beta: float,\n",
    ">> Radiation force to gravitational force ratio parameter.\n",
    "\n",
    "> lifetime: float,\n",
    ">> Lifetime of the species.\n",
    "\n",
    "> n_e: float,\n",
    ">> Electron density scaling factor. Will be passed to the chemical network, where all reaction rates given per electron density, will be scaled accordingly.\n",
    "\n",
    "> sput_spec: dict\n",
    ">> Contains all the parameters for the sputtering distribution. Most important are _model_smyth_v_b_ and _model_smyth_v_M_ which define most likely and maximum speeds, respectively.\n",
    ")\n",
    "\n"
   ]
  },
  {
   "cell_type": "markdown",
   "metadata": {},
   "source": [
    "#### Adding new species\n",
    "\n",
    "If you want to add new species, there are a few steps you need to undertake:\n",
    "1. Add species name to _implemented_species_ in the _Species_ class from the _species.py_ file and assign it a number acting as an id.\n",
    "2. In _species.py_, there's a code block starting with _if name in self.implementedSpecies:_. Inside this block you need to make a new entry similar to what you can see already exists. The number passed to _super()_ is the mass number of the species.\n",
    "3. Define a network or lifetime in the _network.py_ file that is associated to the new species id."
   ]
  }
 ],
 "metadata": {
  "kernelspec": {
   "display_name": "Python 3 (ipykernel)",
   "language": "python",
   "name": "python3"
  },
  "language_info": {
   "codemirror_mode": {
    "name": "ipython",
    "version": 3
   },
   "file_extension": ".py",
   "mimetype": "text/x-python",
   "name": "python",
   "nbconvert_exporter": "python",
   "pygments_lexer": "ipython3",
   "version": "3.10.6"
  }
 },
 "nbformat": 4,
 "nbformat_minor": 1
}
