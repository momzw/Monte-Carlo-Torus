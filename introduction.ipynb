{
 "cells": [
  {
   "cell_type": "markdown",
   "source": [
    "# SERPENS\n",
    "## An Introduction\n",
    "\n",
    "In this notebook, I will demonstrate the basic usage of SERPENS.\n"
   ],
   "metadata": {
    "collapsed": false
   }
  },
  {
   "cell_type": "markdown",
   "source": [
    "***\n",
    "***\n",
    "\n",
    "### Quick Start\n",
    "Let's assume you just downloaded all SERPENS files and haven't modified any of them.\n",
    "\n",
    "We want to start a simulation. We do so by initiating a _SerpensSimulation_ instance and advancing it an integer number of times. Inside the _Parameters_ class we have a variable called _sim_advance_. This variable describes the timestep of one advance in fractions of a full orbit (this is not the integration step time, but the step time after which new particles are added!).\n",
    "\n",
    "The following advances 5 times, i.e. 5 _sim_advance_ orbit fractions."
   ],
   "metadata": {
    "collapsed": false
   }
  },
  {
   "cell_type": "code",
   "execution_count": null,
   "outputs": [],
   "source": [
    "from serpens_simulation import SerpensSimulation\n",
    "\n",
    "sersim = SerpensSimulation()\n",
    "sersim.advance(5)"
   ],
   "metadata": {
    "collapsed": false,
    "pycharm": {
     "is_executing": true
    }
   }
  },
  {
   "cell_type": "markdown",
   "source": [
    "Once the simulation has run, we can run the analyzer to extract information from the particle distribution. Just like with the simulation we need to initialize a _SerpensAnalyzer_ instance.\n",
    "\n",
    "We first plot a top-down view of the system and afterwards we take a look at the line-of-sight perspective."
   ],
   "metadata": {
    "collapsed": false
   }
  },
  {
   "cell_type": "code",
   "execution_count": null,
   "outputs": [],
   "source": [
    "from serpens_analyzer import SerpensAnalyzer\n",
    "\n",
    "serana = SerpensAnalyzer()\n",
    "serana.top_down(timestep=5, d=2, colormesh=True, scatter=False, triplot=False, show=True)\n",
    "serana.los(timestep=5, show=True)"
   ],
   "metadata": {
    "collapsed": false
   }
  },
  {
   "cell_type": "markdown",
   "source": [
    "If you have set up the interactive framework for matplotlib correctly, you should be able to see plots (second after you close the first)."
   ],
   "metadata": {
    "collapsed": false
   }
  },
  {
   "cell_type": "markdown",
   "source": [
    "Now, let's look at another feature of SERPENS: The scheduler.\n",
    "\n",
    "With the scheduler you are able to set up multiple simulations at once. These will get saved in separate folders. For each simulation the saved files are the parameters, a hash library and an archive bin-file. In order to analyze these, you need to move these files into the main folder of SERPENS afterwards. Note, however, that you need to analyze the simulations separately.\n",
    "\n",
    "In order for the simulation to read the scheduler, we need to tell it if we deal with a moon or a planet (in case we want to simulate close orbiting evaporative planets).\n",
    "The stars, planets and moons are set up in the _objects.py_ file. One needs to have the different systems and their celestial objects pre-defined. These celestial sets are indexed with the _celest_set_ attribute.\n",
    "In addition to the system, we can define a list of species to check (here it's only sodium) with their respective parameters (see further down below).\n",
    "If we want to change some parameters of the celestial objects, e.g. mass and radius, we can do so with the _objects_ argument. This argument must be given as a dictionary with the celestial bodies and their new parameters as a sub-dictionary. Valid arguments inside the sub-dictionary are REBOUND particle parameters and the argument _source_. Latter is a boolean that allows the user to set a different object as the simulation particle source. The original intention of this argument was to switch between sources if multiple natural satellites have been defined.\n",
    "\n",
    "\n",
    "As always: We initiate the corresponding instance. As an example we want to simulate a super-Earth and an exo-Io in the systems WASP-49 and HD-189733, respectively.\n",
    "\n",
    "Note: Units are in SI.\n"
   ],
   "metadata": {
    "collapsed": false
   }
  },
  {
   "cell_type": "code",
   "execution_count": null,
   "outputs": [],
   "source": [
    "from scheduler import SerpensScheduler\n",
    "from species import Species\n",
    "\n",
    "ssch = SerpensScheduler()\n",
    "\n",
    "ssch.schedule(\"WASP-49-SuperEarth\",\n",
    "              species=[Species('Na', description='Na--125285kg/s--2.5-30km/s', n_th=0, n_sp=1000,\n",
    "                       mass_per_sec=125285, lifetime=4*60, model_smyth_v_b=2500, model_smyth_v_M=30000)],\n",
    "              moon=True,\n",
    "              celest_set=2)\n",
    "ssch.schedule(\"HD-189733-ExoIo\",\n",
    "              species=[Species('Na', description='Na--11576kg/s--2.5-30km/s', n_th=0, n_sp=1000, mass_per_sec=11576, lifetime=16.9 * 60, model_smyth_v_b=2500, model_smyth_v_M=30000)],\n",
    "              moon=True,\n",
    "              objects={'moon': {'m': 8.8e22, 'r': 1820e3}},\n",
    "              celest_set=3)\n",
    "ssch.run()"
   ],
   "metadata": {
    "collapsed": false
   }
  },
  {
   "cell_type": "markdown",
   "source": [
    "After the above code is finished you should find a new folder inside SERPENS with the resulting simulation instances.\n",
    "\n",
    "Note: Running via the scheduler will always advance as often as has been defined by _num_sim_advances_ inside the _parameters_ class."
   ],
   "metadata": {
    "collapsed": false
   }
  },
  {
   "cell_type": "markdown",
   "source": [
    "***\n",
    "***\n",
    "\n",
    "### Custom setup\n",
    "For a basic simulation setup, we need to specify the following things:\n",
    "- Define the celestial objects in the _objects.py_ file.\n",
    "- Define the simulation parameters in the _init.py_ file."
   ],
   "metadata": {
    "collapsed": false
   }
  },
  {
   "cell_type": "markdown",
   "source": [
    "***\n",
    "\n",
    "#### Setting up parameters\n",
    "\n",
    "The _init.py_ file contains the _DefaultFields_ class, which sets the general simulation parameters.\n",
    "As the name suggests we are able to set the default parameters in this class.\n",
    "\n",
    "\n",
    "Let us take a look at this class:"
   ],
   "metadata": {
    "collapsed": false
   }
  },
  {
   "cell_type": "code",
   "execution_count": 1,
   "outputs": [],
   "source": [
    "from objects import celestial_objects\n",
    "from species import Species\n",
    "\n",
    "class DefaultFields:\n",
    "    # Integration specifics\n",
    "    int_spec = {\n",
    "        \"moon\": True,\n",
    "        \"sim_advance\": 1 / 40,\n",
    "        \"num_sim_advances\": 6,\n",
    "        \"stop_at_steady_state\": False,\n",
    "        \"gen_max\": None,\n",
    "        \"r_max\": 4,\n",
    "        \"random_walk\": False,\n",
    "        \"particle_interpolation\": False\n",
    "    }\n",
    "\n",
    "    # Thermal evaporation parameters\n",
    "    therm_spec = {\n",
    "        \"source_temp_max\": 2703,\n",
    "        \"source_temp_min\": 1609,\n",
    "        \"spherical_symm_ejection\": True,\n",
    "    }\n",
    "\n",
    "    celest = celestial_objects(int_spec[\"moon\"], set=6)\n",
    "    species = {\n",
    "        \"species1\": Species('Na', description='Na--2.6e12kg/s--2.5-30km/s--tau6.7min', n_th=0, n_sp=1000,\n",
    "                            mass_per_sec=2.6e12, lifetime=6.7 * 60, model_smyth_v_b=2500,\n",
    "                            model_smyth_v_M=30000)\n",
    "\n",
    "    }\n",
    "    num_species = len(species)\n"
   ],
   "metadata": {
    "collapsed": false
   }
  },
  {
   "cell_type": "markdown",
   "source": [
    "Running the _SerpensSimulation_ will use these parameters.\n",
    "If you set up a scheduler you can overwrite the parameters for a single simulation. Once the simulation finished they will be reset to the default values. In case you prefer to work with the scheduler you can set up a simulation with new parameters in there.\n",
    "\n",
    "\n",
    "Working with your own files, only importing SERPENS, you can also change the default parameters outside of the _parameters.py_ file using the _change_defaults_ method. You can pass your default parameters just like they are defined in the _DefaultFields_ class, i.e. the integration specifics as a dictionary, for example. These dictionaries need to contain *all* keys and values that you can see in the class and not only the parameters you want to change."
   ],
   "metadata": {
    "collapsed": false
   }
  },
  {
   "cell_type": "code",
   "execution_count": null,
   "outputs": [],
   "source": [
    "from parameters import DefaultFields\n",
    "\n",
    "DefaultFields.change_defaults(\n",
    "    int_spec={\n",
    "        \"moon\": True,\n",
    "        \"sim_advance\": 1 / 80,\n",
    "        \"num_sim_advances\": 100,\n",
    "        \"stop_at_steady_state\": False,\n",
    "        \"gen_max\": None,\n",
    "        \"r_max\": 4,\n",
    "        \"random_walk\": False,\n",
    "        \"particle_interpolation\": False\n",
    "    })\n"
   ],
   "metadata": {
    "collapsed": false,
    "pycharm": {
     "is_executing": true
    }
   }
  },
  {
   "cell_type": "markdown",
   "source": [
    "This does not make you completely independent of working inside the SERPENS files, though. The celestial objects are currently only definable inside the _objects.py_ file. Same goes for the species and chemical network."
   ],
   "metadata": {
    "collapsed": false
   }
  },
  {
   "cell_type": "markdown",
   "source": [
    "#### Setting up celestial objects\n",
    "\n",
    "The _objects.py_ file contains the _celestial_objects_ function, contain a dictionary of celestial objects.\n",
    "\n",
    "We distinguish between systems containing a moon-source and system with a planet-source. If you want to change the celestial objects in a system, in which you want to simulate a moon,\n",
    "make sure to modify the entries under the _if moon_ clause.\n",
    "SERPENS allows to set default parameters for both cases.\n",
    "\n",
    "Very important is to define which object is the source. In case of an exomoon system, you need to add _\"hash\": \"moon\"_ to the source's characteristic dictionary.\n",
    "In all cases you need to add the _\"hash\": \"planet\"_ dictionary entry to the outgassing planet / exomoon primary.\n",
    "If you analyze an exomoon system, but don't have an object with entry _\"hash\": \"moon\"_, SERPENS throws an error. It also throws an error if there's no object with _\"hash\": \"planet\"_.\n",
    "\n",
    "ATTENTION: Even if you add additional moons/planets, only add the \"moon\"/\"planet\" hashes to ONE of those objects. SERPENS identifies the source and primary with these exact hashes.\n",
    "Additional objects may carry any hash except \"moon\"/\"planet\".\n",
    "\n",
    "You can also define multiple celestial object system, which is import if you want to schedule multiple SERPENS simulations in different exoplanet systems.\n",
    "Make sure to define the dictionaries with _celest{X}_, where _{X}_ is a set number. This set number can later be put as an argument (see function arguments).\n",
    "\n",
    "Example:"
   ],
   "metadata": {
    "collapsed": false
   }
  },
  {
   "cell_type": "markdown",
   "source": [],
   "metadata": {
    "collapsed": false
   }
  },
  {
   "cell_type": "code",
   "execution_count": 2,
   "outputs": [],
   "source": [
    "def celestial_objects(moon, set=1):\n",
    "    m_sol = 1.988e30\n",
    "    m_jup = 1.898e27\n",
    "    r_sol = 696340e3\n",
    "    r_jup = 69911e3\n",
    "    au = 149597870700\n",
    "\n",
    "    if moon:\n",
    "        # Jupiter\n",
    "        # -------\n",
    "        celest1 = {\n",
    "            \"star\": {\"m\": 1.988e30,\n",
    "                     \"hash\": 'star',\n",
    "                     \"r\": 696340000\n",
    "                     },\n",
    "            \"planet\": {\"m\": 1.898e27,\n",
    "                       \"a\": 7.785e11,\n",
    "                       \"e\": 0.0489,\n",
    "                       \"inc\": 0.0227,\n",
    "                       \"r\": 69911000,\n",
    "                       \"primary\": 'star',\n",
    "                       \"hash\": 'planet'\n",
    "                       },\n",
    "            \"Europa\": {\"m\": 4.799e22,  # Europa\n",
    "                     \"a\": 6.709e8,\n",
    "                     \"e\": 0.009,\n",
    "                     \"inc\": 0.0082,\n",
    "                     \"r\": 1560800,\n",
    "                     \"primary\": 'planet',\n",
    "                     \"hash\": 'moon'\n",
    "                     },\n",
    "            \"Io\": {\"m\": 8.932e22,  # Io\n",
    "                    \"a\": 4.217e8,\n",
    "                    \"e\": 0.0041,\n",
    "                    \"r\": 1821600,\n",
    "                    \"primary\": 'planet'\n",
    "                     }\n",
    "        }\n",
    "    else:\n",
    "        # 55 Cnc-e\n",
    "        # --------\n",
    "        celest1 = {\n",
    "            \"star\": {\"m\": 1.799e30,\n",
    "                     \"hash\": 'star',\n",
    "                     \"r\": 6.56e8\n",
    "                     },\n",
    "            \"planet\": {\"m\": 4.77179e25,\n",
    "                       \"a\": 2.244e9,\n",
    "                       \"e\": 0.05,\n",
    "                       \"inc\": 0.00288,\n",
    "                       \"r\": 1.196e7,\n",
    "                       \"primary\": 'star',\n",
    "                       \"hash\": 'planet'}\n",
    "        }"
   ],
   "metadata": {
    "collapsed": false
   }
  },
  {
   "cell_type": "markdown",
   "source": [
    "In the above code we set two default systems.\n",
    "If we set _int_spec[\"moon\"] = True_ in the _Parameters_ class, then the Jovian system will be set as default. Note how only Europa has the hash \"moon\".\n",
    "If we set _int_spec[\"moon\"] = False_, then the 55 Cnc-e system will be set as default.\n"
   ],
   "metadata": {
    "collapsed": false
   }
  },
  {
   "cell_type": "markdown",
   "source": [
    "***\n",
    "\n",
    "### Species\n",
    "\n",
    "This section covers a quick explanation to the species class.\n",
    "\n",
    "Species(\n",
    "> name: str,\n",
    ">> The name of the species. See the _species.py_ file for all implemented species names, e.g. \"Na\", \"H2\", \"SO2\".\n",
    "\n",
    "> description: str,\n",
    ">> If given, this description will be forwarded to any plots and allows a more sophisticated labeling, eg. \"H2--6.69kg/s--1200m/s\".\n",
    "\n",
    "> n_th: int,\n",
    ">> Number of thermal evaporated superparticles added to the simulation per advance.\n",
    "\n",
    "> n_sp: int,\n",
    ">> Number of sputtered superparticles added to the simulation per advance.\n",
    "\n",
    "> mass_per_sec: float,\n",
    ">> Mass flow rate in kg/s. Needed for density estimations.\n",
    "\n",
    "> duplicate: int,\n",
    ">> If multiple species of the same kind are analyzed, but with different parameters, this parameter must be increased by one for each duplicate species starting at 1.\n",
    "\n",
    "> beta: float,\n",
    ">> Radiation force to gravitational force ratio parameter.\n",
    "\n",
    "> lifetime: float,\n",
    ">> Lifetime of the species.\n",
    "\n",
    "> n_e: float,\n",
    ">> Electron density scaling factor. Will be passed to the chemical network, where all reaction rates given per electron density, will be scaled accordingly.\n",
    "\n",
    "> sput_spec: dict\n",
    ">> Contains all the parameters for the sputtering distribution. Most important are _model_smyth_v_b_ and _model_smyth_v_M_ which define most likely and maximum speeds, respectively.\n",
    ")\n",
    "\n"
   ],
   "metadata": {
    "collapsed": false
   }
  },
  {
   "cell_type": "markdown",
   "source": [
    "#### Adding new species\n",
    "\n",
    "If you want to add new species, there are a few steps you need to undertake:\n",
    "1. Add species name to _implemented_species_ in the _Species_ class from the _species.py_ file and assign it a number acting as an id.\n",
    "2. In _species.py_, there's a code block starting with _if name in self.implementedSpecies:_. Inside this block you need to make a new entry similar to what you can see already exists. The number passed to _super()_ is the mass number of the species.\n",
    "3. Define a network or lifetime in the _network.py_ file that is associated to the new species id."
   ],
   "metadata": {
    "collapsed": false
   }
  }
 ],
 "metadata": {
  "kernelspec": {
   "display_name": "Python 3",
   "language": "python",
   "name": "python3"
  },
  "language_info": {
   "codemirror_mode": {
    "name": "ipython",
    "version": 2
   },
   "file_extension": ".py",
   "mimetype": "text/x-python",
   "name": "python",
   "nbconvert_exporter": "python",
   "pygments_lexer": "ipython2",
   "version": "2.7.6"
  }
 },
 "nbformat": 4,
 "nbformat_minor": 0
}
